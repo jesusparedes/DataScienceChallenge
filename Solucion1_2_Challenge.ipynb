{
 "cells": [
  {
   "cell_type": "markdown",
   "metadata": {},
   "source": [
    "### **SOLUCIÓN EJERCICIO 1**"
   ]
  },
  {
   "cell_type": "code",
   "execution_count": 2,
   "metadata": {},
   "outputs": [],
   "source": [
    "import pandas as pd"
   ]
  },
  {
   "cell_type": "code",
   "execution_count": 6,
   "metadata": {},
   "outputs": [
    {
     "name": "stdout",
     "output_type": "stream",
     "text": [
      "(500000, 4)\n",
      "(500000, 4)\n",
      "(500000, 4)\n",
      "(500000, 4)\n",
      "(500000, 4)\n",
      "(500000, 4)\n",
      "(500000, 4)\n",
      "(500000, 4)\n",
      "(500000, 4)\n",
      "(500000, 4)\n",
      "(500000, 4)\n",
      "(500000, 4)\n",
      "(500000, 4)\n",
      "(500000, 4)\n",
      "(500000, 4)\n",
      "(500000, 4)\n",
      "(500000, 4)\n",
      "(500000, 4)\n",
      "(500000, 4)\n",
      "(500000, 4)\n",
      "(10, 4)\n"
     ]
    }
   ],
   "source": [
    "c_size = 500000\n",
    "col_list = (['arr_port', 'pax','year','arr_city'])\n",
    "for gm_chunk in pd.read_csv(\"~/Data/challenge/bookings.csv\",chunksize=c_size,sep = '^',usecols=col_list):\n",
    "    print(gm_chunk.shape)"
   ]
  },
  {
   "cell_type": "markdown",
   "metadata": {},
   "source": [
    "**EJERCICIO 1** -- El data set tiene 10 millones 10 lineas"
   ]
  },
  {
   "cell_type": "markdown",
   "metadata": {},
   "source": [
    "### **SOLUCIÓN EJERCICIO 2**"
   ]
  },
  {
   "cell_type": "code",
   "execution_count": 5,
   "metadata": {},
   "outputs": [
    {
     "data": {
      "text/html": [
       "<div>\n",
       "<style scoped>\n",
       "    .dataframe tbody tr th:only-of-type {\n",
       "        vertical-align: middle;\n",
       "    }\n",
       "\n",
       "    .dataframe tbody tr th {\n",
       "        vertical-align: top;\n",
       "    }\n",
       "\n",
       "    .dataframe thead th {\n",
       "        text-align: right;\n",
       "    }\n",
       "</style>\n",
       "<table border=\"1\" class=\"dataframe\">\n",
       "  <thead>\n",
       "    <tr style=\"text-align: right;\">\n",
       "      <th></th>\n",
       "      <th>arr_port</th>\n",
       "      <th>pax</th>\n",
       "    </tr>\n",
       "  </thead>\n",
       "  <tbody>\n",
       "    <tr>\n",
       "      <th>0</th>\n",
       "      <td>LHR</td>\n",
       "      <td>88809.0</td>\n",
       "    </tr>\n",
       "    <tr>\n",
       "      <th>1</th>\n",
       "      <td>MCO</td>\n",
       "      <td>70930.0</td>\n",
       "    </tr>\n",
       "    <tr>\n",
       "      <th>2</th>\n",
       "      <td>LAX</td>\n",
       "      <td>70530.0</td>\n",
       "    </tr>\n",
       "    <tr>\n",
       "      <th>3</th>\n",
       "      <td>LAS</td>\n",
       "      <td>69630.0</td>\n",
       "    </tr>\n",
       "    <tr>\n",
       "      <th>4</th>\n",
       "      <td>JFK</td>\n",
       "      <td>66270.0</td>\n",
       "    </tr>\n",
       "    <tr>\n",
       "      <th>5</th>\n",
       "      <td>CDG</td>\n",
       "      <td>64490.0</td>\n",
       "    </tr>\n",
       "    <tr>\n",
       "      <th>6</th>\n",
       "      <td>BKK</td>\n",
       "      <td>59460.0</td>\n",
       "    </tr>\n",
       "    <tr>\n",
       "      <th>7</th>\n",
       "      <td>SFO</td>\n",
       "      <td>58000.0</td>\n",
       "    </tr>\n",
       "    <tr>\n",
       "      <th>8</th>\n",
       "      <td>DXB</td>\n",
       "      <td>55590.0</td>\n",
       "    </tr>\n",
       "    <tr>\n",
       "      <th>9</th>\n",
       "      <td>MIA</td>\n",
       "      <td>32070.0</td>\n",
       "    </tr>\n",
       "  </tbody>\n",
       "</table>\n",
       "</div>"
      ],
      "text/plain": [
       "   arr_port      pax\n",
       "0  LHR       88809.0\n",
       "1  MCO       70930.0\n",
       "2  LAX       70530.0\n",
       "3  LAS       69630.0\n",
       "4  JFK       66270.0\n",
       "5  CDG       64490.0\n",
       "6  BKK       59460.0\n",
       "7  SFO       58000.0\n",
       "8  DXB       55590.0\n",
       "9  MIA       32070.0"
      ]
     },
     "execution_count": 5,
     "metadata": {},
     "output_type": "execute_result"
    }
   ],
   "source": [
    "top10 = pd.DataFrame()\n",
    "count = 0\n",
    "c_size = 500000\n",
    "col_list = (['arr_port', 'pax','year','arr_city'])\n",
    "\n",
    "for gm_chunk in pd.read_csv(\"~/Data/challenge/bookings.csv\",chunksize=c_size,sep = '^',usecols=col_list):\n",
    "   \n",
    "    # Selecciono el año 2013\n",
    "    gm_chunk = gm_chunk[gm_chunk['year'] == 2013]\n",
    "    \n",
    "    # Compruebo si hay NaN y elimino en caso de haber\n",
    "    if (gm_chunk.isnull().values.any() == True):\n",
    "        gm_chunk = gm_chunk.dropna()\n",
    "\n",
    "    # Compruebo los espacios en 'arr_port' para hacer groupby y elimino en caso de haber\n",
    "    gm_chunk['arr_port'].str.strip()\n",
    "    gm_chunk['arr_city'].str.strip()\n",
    "    \n",
    "    # Comprobaciones hechas, agrupo con groupby, ordeno con sort_values y muestro con head(10)\n",
    "    #shorted = gm_chunk.groupby(['arr_port','arr_city'])['pax'].sum().sort_values(ascending=False)\n",
    "    shorted = gm_chunk.groupby(['arr_port']).sum().sort_values('pax',ascending=False)\n",
    "    del shorted['year']\n",
    "    \n",
    "    # Esto es solo para un chunk del data frame original. A continuación se realiza para el resto de chunks, teniendo \n",
    "    # que almacenar el contenido en un nuevo data frame.\n",
    "    top10 = top10.append(shorted.head(10))\n",
    "    # De esta forma, en top10 tendremos los 10 mas concurridos pudiendo tener repetidos ya que analizamos por fracciones del data set original\n",
    "\n",
    "# Finalmente, realizo un nuevo groupby por 'arr_port' en el nuevo data frame generado con el objetivo de anular repetidos\n",
    "# y mostrar el top10 de todo el conjunto de datos \n",
    "sol = top10.groupby(['arr_port'])['pax'].sum().sort_values(ascending=False).reset_index()\n",
    "sol.head(10)"
   ]
  },
  {
   "cell_type": "code",
   "execution_count": null,
   "metadata": {},
   "outputs": [],
   "source": []
  }
 ],
 "metadata": {
  "kernelspec": {
   "display_name": "Python 3",
   "language": "python",
   "name": "python3"
  },
  "language_info": {
   "codemirror_mode": {
    "name": "ipython",
    "version": 3
   },
   "file_extension": ".py",
   "mimetype": "text/x-python",
   "name": "python",
   "nbconvert_exporter": "python",
   "pygments_lexer": "ipython3",
   "version": "3.7.1"
  }
 },
 "nbformat": 4,
 "nbformat_minor": 2
}
